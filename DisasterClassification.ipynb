{
  "nbformat": 4,
  "nbformat_minor": 0,
  "metadata": {
    "colab": {
      "name": "DisasterClassification.ipynb",
      "provenance": [],
      "collapsed_sections": []
    },
    "kernelspec": {
      "name": "python3",
      "display_name": "Python 3"
    },
    "language_info": {
      "name": "python"
    },
    "accelerator": "GPU"
  },
  "cells": [
    {
      "cell_type": "code",
      "metadata": {
        "colab": {
          "base_uri": "https://localhost:8080/"
        },
        "id": "R2keIB1AfEYE",
        "outputId": "1b32dce4-8b20-42dc-8be2-9953f55389de"
      },
      "source": [
        "!nvidia-smi"
      ],
      "execution_count": 15,
      "outputs": [
        {
          "output_type": "stream",
          "text": [
            "Sat May  8 09:12:31 2021       \n",
            "+-----------------------------------------------------------------------------+\n",
            "| NVIDIA-SMI 465.19.01    Driver Version: 460.32.03    CUDA Version: 11.2     |\n",
            "|-------------------------------+----------------------+----------------------+\n",
            "| GPU  Name        Persistence-M| Bus-Id        Disp.A | Volatile Uncorr. ECC |\n",
            "| Fan  Temp  Perf  Pwr:Usage/Cap|         Memory-Usage | GPU-Util  Compute M. |\n",
            "|                               |                      |               MIG M. |\n",
            "|===============================+======================+======================|\n",
            "|   0  Tesla T4            Off  | 00000000:00:04.0 Off |                    0 |\n",
            "| N/A   36C    P8     9W /  70W |      0MiB / 15109MiB |      0%      Default |\n",
            "|                               |                      |                  N/A |\n",
            "+-------------------------------+----------------------+----------------------+\n",
            "                                                                               \n",
            "+-----------------------------------------------------------------------------+\n",
            "| Processes:                                                                  |\n",
            "|  GPU   GI   CI        PID   Type   Process name                  GPU Memory |\n",
            "|        ID   ID                                                   Usage      |\n",
            "|=============================================================================|\n",
            "|  No running processes found                                                 |\n",
            "+-----------------------------------------------------------------------------+\n"
          ],
          "name": "stdout"
        }
      ]
    },
    {
      "cell_type": "code",
      "metadata": {
        "id": "fFZWG_cDZYex"
      },
      "source": [
        "!pip install -q kaggle"
      ],
      "execution_count": 16,
      "outputs": []
    },
    {
      "cell_type": "code",
      "metadata": {
        "id": "upgw1xXXZkGh",
        "colab": {
          "resources": {
            "http://localhost:8080/nbextensions/google.colab/files.js": {
              "data": "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",
              "ok": true,
              "headers": [
                [
                  "content-type",
                  "application/javascript"
                ]
              ],
              "status": 200,
              "status_text": ""
            }
          },
          "base_uri": "https://localhost:8080/",
          "height": 110
        },
        "outputId": "43ce6768-2947-4d4b-c587-485aee240ebe"
      },
      "source": [
        "from google.colab import files\n",
        "files.upload()          "
      ],
      "execution_count": 17,
      "outputs": [
        {
          "output_type": "display_data",
          "data": {
            "text/html": [
              "\n",
              "     <input type=\"file\" id=\"files-5e9250d7-191a-494e-9527-e7cff3ee9ec5\" name=\"files[]\" multiple disabled\n",
              "        style=\"border:none\" />\n",
              "     <output id=\"result-5e9250d7-191a-494e-9527-e7cff3ee9ec5\">\n",
              "      Upload widget is only available when the cell has been executed in the\n",
              "      current browser session. Please rerun this cell to enable.\n",
              "      </output>\n",
              "      <script src=\"/nbextensions/google.colab/files.js\"></script> "
            ],
            "text/plain": [
              "<IPython.core.display.HTML object>"
            ]
          },
          "metadata": {
            "tags": []
          }
        },
        {
          "output_type": "stream",
          "text": [
            "Saving kaggle.json to kaggle (1).json\n"
          ],
          "name": "stdout"
        },
        {
          "output_type": "execute_result",
          "data": {
            "text/plain": [
              "{'kaggle.json': b'{\"username\":\"aarushverma\",\"key\":\"a556b53644acf230d4623a725d843ac2\"}'}"
            ]
          },
          "metadata": {
            "tags": []
          },
          "execution_count": 17
        }
      ]
    },
    {
      "cell_type": "code",
      "metadata": {
        "id": "-RiZQ_FQZmk8",
        "colab": {
          "base_uri": "https://localhost:8080/"
        },
        "outputId": "615dbd7d-7b17-462e-bcaa-c5268c2b6d90"
      },
      "source": [
        "!mkdir ~/.kaggle\n",
        "!cp kaggle.json ~/.kaggle/\n",
        "!chmod 600 ~/.kaggle/kaggle.json"
      ],
      "execution_count": 18,
      "outputs": [
        {
          "output_type": "stream",
          "text": [
            "mkdir: cannot create directory ‘/root/.kaggle’: File exists\n"
          ],
          "name": "stdout"
        }
      ]
    },
    {
      "cell_type": "code",
      "metadata": {
        "id": "ml0CWNaIZq7O",
        "colab": {
          "base_uri": "https://localhost:8080/"
        },
        "outputId": "02bd50d8-1364-45bb-ebb4-3c706c994487"
      },
      "source": [
        "!kaggle competitions download -c nlp-getting-started"
      ],
      "execution_count": 19,
      "outputs": [
        {
          "output_type": "stream",
          "text": [
            "Warning: Looks like you're using an outdated API Version, please consider updating (server 1.5.12 / client 1.5.4)\n",
            "test.csv: Skipping, found more recently modified local copy (use --force to force download)\n",
            "sample_submission.csv: Skipping, found more recently modified local copy (use --force to force download)\n",
            "train.csv: Skipping, found more recently modified local copy (use --force to force download)\n"
          ],
          "name": "stdout"
        }
      ]
    },
    {
      "cell_type": "code",
      "metadata": {
        "id": "n0juez2OIbLr"
      },
      "source": [
        "# nltk\n",
        "import nltk\n",
        "from nltk.corpus import stopwords\n",
        "from  nltk.stem import SnowballStemmer\n",
        "\n",
        "# Scikit-learn\n",
        "from sklearn.model_selection import train_test_split\n",
        "from sklearn.preprocessing import LabelEncoder\n",
        "\n",
        "#Utility\n",
        "import numpy as np\n",
        "import pandas as pd\n",
        "import re\n",
        "\n",
        "# Word2vec\n",
        "import gensim\n",
        "\n",
        "# Keras\n",
        "from keras.preprocessing.text import Tokenizer\n",
        "from keras.preprocessing.sequence import pad_sequences\n",
        "from keras.models import Sequential\n",
        "from keras.layers import Activation, Dense, Dropout, Embedding, Flatten, Conv1D, MaxPooling1D, LSTM\n",
        "from keras import utils\n",
        "from keras.callbacks import ReduceLROnPlateau, EarlyStopping\n",
        "\n",
        "# SENTIMENT\n",
        "POSITIVE = \"POSITIVE\"\n",
        "NEGATIVE = \"NEGATIVE\"\n",
        "NEUTRAL = \"NEUTRAL\"\n",
        "SENTIMENT_THRESHOLDS = (0.4, 0.7)"
      ],
      "execution_count": 20,
      "outputs": []
    },
    {
      "cell_type": "code",
      "metadata": {
        "colab": {
          "base_uri": "https://localhost:8080/"
        },
        "id": "hm78wX_ORUg6",
        "outputId": "70f1588d-54ca-4b6d-9673-921578fe97ce"
      },
      "source": [
        "nltk.download('stopwords')"
      ],
      "execution_count": 21,
      "outputs": [
        {
          "output_type": "stream",
          "text": [
            "[nltk_data] Downloading package stopwords to /root/nltk_data...\n",
            "[nltk_data]   Package stopwords is already up-to-date!\n"
          ],
          "name": "stdout"
        },
        {
          "output_type": "execute_result",
          "data": {
            "text/plain": [
              "True"
            ]
          },
          "metadata": {
            "tags": []
          },
          "execution_count": 21
        }
      ]
    },
    {
      "cell_type": "code",
      "metadata": {
        "id": "uEsxifvTQCDd"
      },
      "source": [
        "# DATASET\n",
        "TRAIN_SIZE = 0.8\n",
        "\n",
        "# KERAS\n",
        "SEQUENCE_LENGTH = 50\n",
        "EPOCHS = 50\n",
        "BATCH_SIZE = 32\n",
        "\n",
        "# WORD2VEC \n",
        "W2V_SIZE = 300\n",
        "W2V_WINDOW = 7\n",
        "W2V_EPOCH = 32\n",
        "W2V_MIN_COUNT = 3\n",
        "\n",
        "# TEXT CLEANING\n",
        "TEXT_CLEANING_RE = \"@\\S+|https?:\\S+|http?:\\S|[^A-Za-z0-9]+\""
      ],
      "execution_count": 88,
      "outputs": []
    },
    {
      "cell_type": "code",
      "metadata": {
        "colab": {
          "base_uri": "https://localhost:8080/",
          "height": 195
        },
        "id": "JZK7oPowLXSn",
        "outputId": "01ce5427-97c6-41f3-8c4b-c6c4fa0560f5"
      },
      "source": [
        "df = pd.read_csv('/content/train.csv',\n",
        "                 engine='python')\n",
        "df.head(5)"
      ],
      "execution_count": 23,
      "outputs": [
        {
          "output_type": "execute_result",
          "data": {
            "text/html": [
              "<div>\n",
              "<style scoped>\n",
              "    .dataframe tbody tr th:only-of-type {\n",
              "        vertical-align: middle;\n",
              "    }\n",
              "\n",
              "    .dataframe tbody tr th {\n",
              "        vertical-align: top;\n",
              "    }\n",
              "\n",
              "    .dataframe thead th {\n",
              "        text-align: right;\n",
              "    }\n",
              "</style>\n",
              "<table border=\"1\" class=\"dataframe\">\n",
              "  <thead>\n",
              "    <tr style=\"text-align: right;\">\n",
              "      <th></th>\n",
              "      <th>id</th>\n",
              "      <th>keyword</th>\n",
              "      <th>location</th>\n",
              "      <th>text</th>\n",
              "      <th>target</th>\n",
              "    </tr>\n",
              "  </thead>\n",
              "  <tbody>\n",
              "    <tr>\n",
              "      <th>0</th>\n",
              "      <td>1</td>\n",
              "      <td>NaN</td>\n",
              "      <td>NaN</td>\n",
              "      <td>Our Deeds are the Reason of this #earthquake M...</td>\n",
              "      <td>1</td>\n",
              "    </tr>\n",
              "    <tr>\n",
              "      <th>1</th>\n",
              "      <td>4</td>\n",
              "      <td>NaN</td>\n",
              "      <td>NaN</td>\n",
              "      <td>Forest fire near La Ronge Sask. Canada</td>\n",
              "      <td>1</td>\n",
              "    </tr>\n",
              "    <tr>\n",
              "      <th>2</th>\n",
              "      <td>5</td>\n",
              "      <td>NaN</td>\n",
              "      <td>NaN</td>\n",
              "      <td>All residents asked to 'shelter in place' are ...</td>\n",
              "      <td>1</td>\n",
              "    </tr>\n",
              "    <tr>\n",
              "      <th>3</th>\n",
              "      <td>6</td>\n",
              "      <td>NaN</td>\n",
              "      <td>NaN</td>\n",
              "      <td>13,000 people receive #wildfires evacuation or...</td>\n",
              "      <td>1</td>\n",
              "    </tr>\n",
              "    <tr>\n",
              "      <th>4</th>\n",
              "      <td>7</td>\n",
              "      <td>NaN</td>\n",
              "      <td>NaN</td>\n",
              "      <td>Just got sent this photo from Ruby #Alaska as ...</td>\n",
              "      <td>1</td>\n",
              "    </tr>\n",
              "  </tbody>\n",
              "</table>\n",
              "</div>"
            ],
            "text/plain": [
              "   id keyword  ...                                               text target\n",
              "0   1     NaN  ...  Our Deeds are the Reason of this #earthquake M...      1\n",
              "1   4     NaN  ...             Forest fire near La Ronge Sask. Canada      1\n",
              "2   5     NaN  ...  All residents asked to 'shelter in place' are ...      1\n",
              "3   6     NaN  ...  13,000 people receive #wildfires evacuation or...      1\n",
              "4   7     NaN  ...  Just got sent this photo from Ruby #Alaska as ...      1\n",
              "\n",
              "[5 rows x 5 columns]"
            ]
          },
          "metadata": {
            "tags": []
          },
          "execution_count": 23
        }
      ]
    },
    {
      "cell_type": "code",
      "metadata": {
        "id": "cBRwn2lFRAhG"
      },
      "source": [
        "stop_words = stopwords.words(\"english\")\n",
        "stemmer = SnowballStemmer(\"english\")"
      ],
      "execution_count": 24,
      "outputs": []
    },
    {
      "cell_type": "code",
      "metadata": {
        "id": "lwCesXdsPLTe"
      },
      "source": [
        "def preprocess(text, stem=False):\n",
        "    text = re.sub(TEXT_CLEANING_RE, ' ', str(text).lower()).strip()\n",
        "    tokens = []\n",
        "    for token in text.split():\n",
        "        if token not in stop_words:\n",
        "            if stem:\n",
        "                tokens.append(stemmer.stem(token))\n",
        "            else:\n",
        "                tokens.append(token)\n",
        "    return \" \".join(tokens)"
      ],
      "execution_count": 25,
      "outputs": []
    },
    {
      "cell_type": "code",
      "metadata": {
        "id": "Jy1Omvg5LcIv"
      },
      "source": [
        "df.text = df.text.apply(lambda z: preprocess(z))"
      ],
      "execution_count": 26,
      "outputs": []
    },
    {
      "cell_type": "code",
      "metadata": {
        "colab": {
          "base_uri": "https://localhost:8080/"
        },
        "id": "LS2UWsjfMqOT",
        "outputId": "3920b159-d652-4ac7-ae9e-47b74a9aea71"
      },
      "source": [
        "df_test = pd.read_csv('/content/test.csv',\n",
        "                 engine='python')\n",
        "df_test.text = df_test.text.apply(lambda z: preprocess(z))\n",
        "df_train = df\n",
        "print(\"TRAIN size:\", len(df_train))\n",
        "print(\"TEST size:\", len(df_test))"
      ],
      "execution_count": 75,
      "outputs": [
        {
          "output_type": "stream",
          "text": [
            "TRAIN size: 7613\n",
            "TEST size: 3263\n"
          ],
          "name": "stdout"
        }
      ]
    },
    {
      "cell_type": "code",
      "metadata": {
        "colab": {
          "base_uri": "https://localhost:8080/",
          "height": 195
        },
        "id": "13sIoS9YTp43",
        "outputId": "5c344101-3e39-47d8-a2b6-21bc51fd14d8"
      },
      "source": [
        "df_train.head(5)"
      ],
      "execution_count": 28,
      "outputs": [
        {
          "output_type": "execute_result",
          "data": {
            "text/html": [
              "<div>\n",
              "<style scoped>\n",
              "    .dataframe tbody tr th:only-of-type {\n",
              "        vertical-align: middle;\n",
              "    }\n",
              "\n",
              "    .dataframe tbody tr th {\n",
              "        vertical-align: top;\n",
              "    }\n",
              "\n",
              "    .dataframe thead th {\n",
              "        text-align: right;\n",
              "    }\n",
              "</style>\n",
              "<table border=\"1\" class=\"dataframe\">\n",
              "  <thead>\n",
              "    <tr style=\"text-align: right;\">\n",
              "      <th></th>\n",
              "      <th>id</th>\n",
              "      <th>keyword</th>\n",
              "      <th>location</th>\n",
              "      <th>text</th>\n",
              "      <th>target</th>\n",
              "    </tr>\n",
              "  </thead>\n",
              "  <tbody>\n",
              "    <tr>\n",
              "      <th>0</th>\n",
              "      <td>1</td>\n",
              "      <td>NaN</td>\n",
              "      <td>NaN</td>\n",
              "      <td>deeds reason earthquake may allah forgive us</td>\n",
              "      <td>1</td>\n",
              "    </tr>\n",
              "    <tr>\n",
              "      <th>1</th>\n",
              "      <td>4</td>\n",
              "      <td>NaN</td>\n",
              "      <td>NaN</td>\n",
              "      <td>forest fire near la ronge sask canada</td>\n",
              "      <td>1</td>\n",
              "    </tr>\n",
              "    <tr>\n",
              "      <th>2</th>\n",
              "      <td>5</td>\n",
              "      <td>NaN</td>\n",
              "      <td>NaN</td>\n",
              "      <td>residents asked shelter place notified officer...</td>\n",
              "      <td>1</td>\n",
              "    </tr>\n",
              "    <tr>\n",
              "      <th>3</th>\n",
              "      <td>6</td>\n",
              "      <td>NaN</td>\n",
              "      <td>NaN</td>\n",
              "      <td>13 000 people receive wildfires evacuation ord...</td>\n",
              "      <td>1</td>\n",
              "    </tr>\n",
              "    <tr>\n",
              "      <th>4</th>\n",
              "      <td>7</td>\n",
              "      <td>NaN</td>\n",
              "      <td>NaN</td>\n",
              "      <td>got sent photo ruby alaska smoke wildfires pou...</td>\n",
              "      <td>1</td>\n",
              "    </tr>\n",
              "  </tbody>\n",
              "</table>\n",
              "</div>"
            ],
            "text/plain": [
              "   id keyword  ...                                               text target\n",
              "0   1     NaN  ...       deeds reason earthquake may allah forgive us      1\n",
              "1   4     NaN  ...              forest fire near la ronge sask canada      1\n",
              "2   5     NaN  ...  residents asked shelter place notified officer...      1\n",
              "3   6     NaN  ...  13 000 people receive wildfires evacuation ord...      1\n",
              "4   7     NaN  ...  got sent photo ruby alaska smoke wildfires pou...      1\n",
              "\n",
              "[5 rows x 5 columns]"
            ]
          },
          "metadata": {
            "tags": []
          },
          "execution_count": 28
        }
      ]
    },
    {
      "cell_type": "code",
      "metadata": {
        "id": "4PJa5_F_SbFV"
      },
      "source": [
        "documents = [_text.split() for _text in df_train.text] "
      ],
      "execution_count": 29,
      "outputs": []
    },
    {
      "cell_type": "code",
      "metadata": {
        "id": "I7eMqAibTz0v"
      },
      "source": [
        "w2v_model = gensim.models.word2vec.Word2Vec(size=W2V_SIZE, \n",
        "                                            window=W2V_WINDOW, \n",
        "                                            min_count=W2V_MIN_COUNT, \n",
        "                                            workers=8)"
      ],
      "execution_count": 30,
      "outputs": []
    },
    {
      "cell_type": "code",
      "metadata": {
        "id": "TINqo1MtTj53"
      },
      "source": [
        "w2v_model.build_vocab(documents)"
      ],
      "execution_count": 31,
      "outputs": []
    },
    {
      "cell_type": "code",
      "metadata": {
        "colab": {
          "base_uri": "https://localhost:8080/"
        },
        "id": "WMLzZKwHVQtf",
        "outputId": "325d2d1f-da02-45a9-c479-4f9d7a67581c"
      },
      "source": [
        "words = w2v_model.wv.vocab.keys()\n",
        "vocab_size = len(words)\n",
        "print(\"Vocab size\", vocab_size)"
      ],
      "execution_count": 32,
      "outputs": [
        {
          "output_type": "stream",
          "text": [
            "Vocab size 4346\n"
          ],
          "name": "stdout"
        }
      ]
    },
    {
      "cell_type": "code",
      "metadata": {
        "colab": {
          "base_uri": "https://localhost:8080/"
        },
        "id": "I5ZJBM5hdNeA",
        "outputId": "710a1e54-76b5-4a08-f146-401cfce48c93"
      },
      "source": [
        "words"
      ],
      "execution_count": 33,
      "outputs": [
        {
          "output_type": "execute_result",
          "data": {
            "text/plain": [
              "dict_keys(['reason', 'earthquake', 'may', 'allah', 'us', 'forest', 'fire', 'near', 'la', 'canada', 'residents', 'asked', 'shelter', 'place', 'officers', 'evacuation', 'orders', 'expected', '13', '000', 'people', 'wildfires', 'california', 'got', 'sent', 'photo', 'alaska', 'smoke', 'school', 'rockyfire', 'update', 'hwy', '20', 'closed', 'due', 'lake', 'county', 'flood', 'disaster', 'heavy', 'rain', 'causes', 'flash', 'flooding', 'streets', 'colorado', 'springs', 'areas', 'top', 'hill', 'see', 'emergency', 'happening', 'building', 'across', 'street', 'afraid', 'tornado', 'coming', 'area', 'three', 'died', 'heat', 'wave', 'far', 'haha', 'south', 'tampa', 'getting', 'flooded', 'hah', 'wait', 'second', 'live', 'gonna', 'raining', 'florida', '18', '19', 'days', 'lost', 'count', 'myanmar', 'arrived', 'damage', 'bus', '80', 'multi', 'car', 'crash', 'breaking', 'man', 'love', 'summer', 'lovely', 'fast', 'ridiculous', 'london', 'cool', 'wonderful', 'day', 'way', 'eat', 'shit', 'nyc', 'last', 'week', 'girlfriend', 'like', 'end', 'wholesale', 'markets', 'ablaze', 'always', 'try', 'bring', 'metal', 'rt', 'news', 'nigeria', 'flag', 'set', 'aba', 'crying', 'plus', 'side', 'look', 'sky', 'night', 'built', 'much', 'hype', 'around', 'new', 'doubt', 'season', 'office', 'jamaica', 'two', 'cars', 'santa', 'cruz', 'head', 'st', 'police', 'lord', 'check', 'nsfw', 'outside', 'alive', 'dead', 'inside', 'awesome', 'time', 'site', 'thanks', 'taking', 'care', 'wanted', 'chicago', 'hotel', 'gained', '3', 'followers', 'know', 'stats', 'grow', 'west', 'burned', 'thousands', 'alone', 'perfect', 'life', 'leave', 'first', 'quite', 'weird', 'better', 'get', 'used', 'wear', 'every', 'single', 'next', 'year', 'least', 'deputies', 'shot', 'home', 'wife', 'six', 'years', 'jail', 'setting', 'niece', 'salmon', 'r', 'arsonist', 'black', 'church', 'north', 'el', 'happy', 'training', 'hard', 'later', 'others', 'front', 'truck', 'ave', 'cargo', 'section', 'hearts', 'city', 'gift', 'upon', 'tonight', 'los', 'angeles', 'expecting', 'ig', 'fb', 'filled', 'sunset', 'shots', 'peeps', 'climate', 'energy', 'videos', 'means', 'mac', 'en', 'route', 'dvd', 'month', 'students', 'would', 'torch', 'amp', 'secret', 'fallen', 'skies', '30', '2013', 'steve', 'fires', 'something', 'else', 'nowplaying', 'ian', 'edm', 'huge', 'talk', 'go', 'make', 'work', 'kids', 'cuz', 'bicycle', 'accident', 'split', 'impossible', 'michael', 'father', '24', 'w', 'traffic', 'moving', 'slower', 'usual', 'center', 'lane', 'blocked', '101', 'nb', 'great', 'america', 'read', 'help', 'among', 'teen', 'accidents', 'reported', 'motor', 'vehicle', 'rd', 'involving', 'please', 'use', '77', 'mile', 'marker', '31', '8', '6', '1', 'pm', 'sleeping', 'double', 'risk', 'knew', 'gon', 'happen', 'n', 'av', '08', '06', '15', '11', '03', '40', 'scene', 'owner', 'range', 'mom', 'horrible', 'past', 'sunday', 'finally', 'able', 'thank', 'god', 'tell', 'another', 'click', 'gt', '23', 'sb', 'motorcyclist', 'dies', 'crossed', 'motorcycle', 'rider', 'fyi', 'cad', 'property', 'nhs', 'dr', 'turning', 'onto', 'mma', 'turned', 'everyone', 'left', 'manchester', 'stop', 'back', 'delay', '4', 'mins', '2015', 'injury', 'fatal', 'alberta', '9', 'blocking', 'right', '2', 'lanes', 'exit', 'consider', 'nc', '150', '16', 'changed', 'options', 'support', 'plans', 'going', 'treatment', 'deadly', 'happened', 'today', 'details', '5', 'even', 'fucking', 'mfs', 'drive', 'previously', 'road', 'killed', 'explosion', 'still', 'heard', 'leaders', 'kenya', 'forward', 'comment', 'issue', 'ps', 'game', 'effort', 'gets', 'win', '320', 'ir', 'icemoon', 'aftershock', 'djicemoon', 'dubstep', 'trapmusic', 'dnb', 'dance', 'ices', 'victory', 'bargain', 'basement', 'prices', 'david', 'nobody', 'came', 'charles', 'im', 'speaking', 'someone', 'using', 'also', 'conflict', 'glorious', 'thomas', 'shooting', 'guess', 'one', 'actually', 'wants', 'free', 'terrifying', 'best', 'roller', 'ever', 'seeing', 'issues', 'minute', 'daily', 'could', 'really', 'many', 'already', 'protect', 'profit', 'global', 'financial', 'meltdown', 'moment', 'scary', 'guy', 'behind', 'screaming', 'bloody', 'murder', '2010', 'full', 'streaming', 'youtube', 'book', 'sometimes', 'face', 'wrong', 'joel', 'thing', 'stands', 'dream', 'possible', 'brown', 'tells', 'remembering', 'die', 'avoid', 'trap', 'thinking', 'lose', 'jobs', 'tried', 'orange', 'never', 'kick', 'want', 'making', 'say', 'cannot', 'done', 'george', 'shell', 'anyone', 'need', 'p', 'u', 'play', 'hybrid', 'slayer', 'eu', 'org', 'experts', 'france', 'begin', 'examining', 'airplane', 'debris', 'found', 'reunion', 'island', 'french', 'air', 'context', 'pilot', 'error', 'common', 'cr', 'lifetime', 'odds', 'dying', 'good', 'job', 'family', 'members', 'bin', 'laden', 'gov', 'suspect', 'goes', 'engine', 'via', 'wings', '29', '07', 'mexico', 'july', 'four', 'men', 'including', 'state', 'government', 'official', 'wednesday', 'began', 'kca', 'votejkt48id', 'rip', 'almost', 'mode', 'might', 'wreck', 'politics', 'mlb', 'insane', 'airport', 'aircraft', 'runway', 'plane', 'festival', 'death', 'dtn', 'brazil', 'exp', 'wtf', 'believe', 'eyes', 'victim', 'crashed', 'times', 'ago', 'little', 'bit', 'trauma', 'although', 'omg', 'bro', 'phone', 'looks', 'ship', 'terrible', 'cop', 'crashes', 'house', '12', 'drone', 'cause', 'pilots', 'worried', 'drones', 'esp', 'close', 'early', 'wake', 'call', 'sister', 'come', 'ride', 'ambulance', 'hospital', 'twelve', 'feared', 'pakistani', 'helicopter', 'serious', 'reuters', 'yugvani', 'leading', 'services', 'boss', 'charity', 'incident', 'sprinter', 'automatic', 'frontline', 'choice', '14', 'lez', 'compliant', 'ebay', 'device', 'target', 'destroy', 'blood', 'crazy', 'fights', 'couple', 'run', 'lucky', 'til', 'waiting', 'ok', 'pakistan', 'kills', 'nine', 'medical', 'assistance', 'ny', 'petition', '17', 'per', 'hour', 'ems', 'parking', 'lot', 'said', 'lt', 'dog', 'thinks', 'dual', 'sirens', 'worldnews', 'number', 'body', 'surprised', 'practice', 'trust', 'j', 'walk', 'passing', 'hate', 'episode', 'annihilated', 'showed', 'nigga', 'mercy', 'shall', 'laid', 'bare', 'uribe', 'baseball', 'mets', 'hey', 'previous', 'meeting', 'indeed', 'seasons', 'ended', 'career', 'status', 'education', 'behalf', 'easy', 'everything', 'un', 'sorry', 'pulls', 'drunk', 'driver', 'safety', 'seconds', 'hit', 'train', 'viralspell', 'must', 'boom', 'country', 'h', 'britain', 'well', 'sure', 'israel', 'horror', 'iran', 'since', 'spent', 'history', '70', 'became', 'aware', 'ability', 'whole', 'humanity', 'went', 'fact', 'stopped', 'quickly', 'short', 'ball', 'arabian', 'hunters', 'ready', 'weather', 'thought', 'forecast', 'feat', 'steel', 'seen', '2005', 'rob', 'officially', 'whatever', 'hashtag', 'reviews', 'thus', 'case', 'survivor', 'completely', 'paul', 'legion', 'survivors', 'project', 'formed', 'cell', 'exactly', 'match', 'syrian', 'army', 'gang', 'pile', 'food', 'bc', 'fun', 'bar', 'apart', 'hell', 'fraction', 'total', 'annihilation', 'destruction', 'usa', 'maybe', 'pres', 'river', 'national', 'park', 'tonto', 'salt', 'wild', 'horse', 'change', 'world', 'vs', 'self', 'transformation', 'attack', 'humans', 'sign', 'share', 'save', 'horses', 'arizona', 'without', 'thx', 'souls', 'mention', 'major', 'take', 'stand', 'voice', 'gilbert23', 'laws', 'false', 'nations', 'jeb', 'christie', 'less', 'hours', 'away', 'allow', 'sing', 'long', 'order', 'current', 'checked', 'tied', 'books', '2011', 'join', 'following', 'zone', 'fight', 'taylor', 'soon', 'survive', 'apocalypse', 'feels', 'poor', 'boy', 'child', 'birthday', 'watch', 'charlie', 'human', 'film', 'august', '05', 'red', 'zombie', '2014', 'feel', 'pull', 'kinda', 'hot', 'played', 'radio', 'disease', 'started', 'careful', 'lol', 'gf', 'question', 'called', 'julie', 'version', 'minecraft', 'block', 'mod', 'bob', 'wither', '0', 'showcase', 'vi', 'begins', 'snow', 'mother', 'mary', 'reading', '21', 'spirit', 'angel', 'took', 'high', 'mountain', 'imagine', 'fighting', 'heart', 'conversations', 'liked', 'video', 'mo', 'planet', 'lone', 'audience', 'dad', 'bought', 'science', 'doc', 'comes', 'beginning', 'movie', 'scared', 'storm', 'latest', 'x', 'totally', 'give', 'bad', 'name', 'gmt', 'plays', 'dark', 'reveals', 'queen', 'shadow', 'enjoyed', 'action', 'titan', 'clean', 'pbban', 'temporary', '300', 'armageddon', 'kill', 'flags', 'xp', 'vid', 'trubgme', 'peace', 'bed', 'unless', 'revolution', 'start', 'microsoft', 'xbox', '360', 'series', 'romance', 'voodoo', 'beat', 'ben', 'girls', 'loved', 'hand', 'bears', 'sense', 'occasion', 'door', 'data', 'mining', 'blog', 'based', 'taste', 'luck', 'tomorrow', 'points', 'justice', 'department', 'tax', 'vladimir', 'putin', 'warning', 'late', 'escape', 'kingdom', 'heavenly', 'rule', 'earth', 'l', 'b', 'entertainment', 'movies', 'sixth', 'let', 'stage', 'prepared', 'toddler', 'library', 'collection', 'cd', 'survival', 'yesterday', 'saw', 'hail', 'think', 'sadly', 'windows', '10', 'averted', 'ultimalucha', 'ww1', 'extremely', 'till', 'christmas', 'christians', 'united', 'comedy', 'working', 'class', 'prepare', 'charts', 'crisis', 'part', 'economic', 'collapse', 'tracks', 'roberts', 'russia', 'lights', 'funny', 'staff', 'fingers', 'eh', 'beyonce', 'pick', 'fan', 'beyhive', 'direction', 'directioners', '22', 'slightly', 'build', 'lead', 'g', 'friend', 'code', 'salvation', 'rally', 'children', 'hosting', 'vote', 'queens', '5th', 'round', 'billboard', '100', 'dogs', 'leader', 'lion', 'show', 'hero', 'tv', 'review', 'sport', 'blue', 'rea', 'swiss', 'date', 'women', 'rubber', 'indian', '78', 'da', 'mtvhottest', 'spears', 'jackson', 'hope', 'leads', 'satan', 'wwi', 'wwii', 'japanese', 'navy', 'military', 'japan', 'leather', 'war', 'mido', '7', 'potus', 'richard', 'member', 'learn', 'violent', 'involved', 'control', 'jewish', 'terrorists', 'charged', 'historic', 'arson', 'ugly', 'truth', 'authorities', 'solve', 'cases', 'hamilton', 'add', 'squad', 'fake', 'crime', 'burn', 'linked', 'caught', 'northern', 'newsintweets', 'mourning', 'notices', 'stabbing', 'victims', 'stir', 'grief', 'sound', 'gay', 'admits', 'scheme', 'lgbt', 'trial', 'palestinian', 'amid', 'protests', 'kisii', 'hunt', 'failed', 'plot', 'thick', 'shoulders', 'girl', 'latimes', 'tennessee', 'lesbian', 'destroyed', 'white', 'impressed', 'alleged', 'east', 'bay', 'serial', 'arrested', 'minor', 'suspected', 'calif', 'legal', 'system', 'dick', 'anything', 'nice', 'sit', 'vegetarian', 'shows', 'popular', 'restaurant', 'captures', 'american', 'beach', 'ca', 'burning', 'nasty', 'things', 'makes', 'town', 'salem', 'ice', 'blamed', 'blaze', 'recycling', 'business', 'reports', 'produced', 'lmfao', 'cant', 'moves', 'sets', 'newyork', 'whats', 'fuck', 'drink', 'green', 'court', 'lmao', 'real', 'frank', 'guilty', 'hiring', 'terrorism', 'telegraph', 'big', 'true', 'story', 'missing', 'stay', 'civil', 'constant', 'credit', 'tbt', 'nashville', 'theater', 'gun', 'grabbers', 'demand', 'hatchet', 'terror', 'post', 'udhampur', 'demi', 'million', 'nuclear', 'warnings', 'knowing', 'claims', 'suicide', 'bombing', 'saudi', 'mosque', 'twitter', 'feminists', 'horrific', 'muslim', 'italy', 'blasts', 'accused', 'karachi', 'mumbai', 'militants', 'psychological', 'spos', 'injured', 'obama', 'officials', 'gave', 'terrorist', 'weapon', 'texas', 'provide', 'acid', 'private', 'user', 'internet', 'israeli', 'forces', 'raid', 'palestine', 'worry', 'rocket', 'okay', 'lie', 'senior', 'diamond', 'shift', 'defend', 'idiot', 'ii', 'machine', 'yet', 'response', 'harper', 'yeah', 'theatre', 'homeless', 'damn', 'india', 'evidence', 'pak', 'illegal', 'released', 'rape', 'maria', 'woman', 'prior', 'team', 'act', 'simply', 'trying', 'atomic', 'bombs', 'fat', 'says', 'group', 'gop', 'yay', 'anxiety', 'attacked', 'feeling', 'female', 'somehow', 'claim', 'media', 'civilians', 'gaza', 'greece', 'christian', 'muslims', 'temple', 'mount', 'waving', 'pamela', 'geller', 'unit', 'responsible', 'targeting', 'youth', 'southern', 'remember', 'patrick', 'ik', 'literally', 'abused', 'families', 'abuse', 'worst', 'person', 'guys', 'racist', 'donald', 'trump', 'view', 'needs', 'chill', 'answer', 'robot', 'tweets', 'program', 'flew', 'mine', 'fukushima', 'student', 'avalanche', 'defense', 'louis', 'kalle', 'mattson', 'shirt', 'cotton', 'frozen', 'v', 'row', 'aa', 'grand', 'bet', 'didnt', 'box', 'piece', 'designs', 'appreciate', '1998', '99', 'upper', 'deck', '1620', 'made', 'musician', '34', 'classic', 'album', 'covers', 'music', 'beautiful', 'sweet', 'faith', 'lots', 'calgary', 'flames', 'col', 'secrets', 'inner', 'communication', 'worth', 'len', 'fall', 'leaves', 'fully', 'bands', 'original', 'em', 'fuel', 'gas', 'chevy', 'tahoe', 'driving', 'tank', 'lifted', '4x4', 'favorite', 'deal', 'gordon', 'prince', 'q', 'google', 'purchase', 'songs', 'yo', 'believing', 'wide', 'bts', 'incredible', 'listen', 'premium', 'star', 'wars', 'power', 'battle', 'droid', 'general', '2nd', 'hampshire', 'signed', 'dragon', 'z', 'gods', 'added', 'playlist', 'bat', 'ya', 'clip', 'cast', 'tb', 'ending', 'hits', 'eye', 'space', 'occurred', 'fleets', 'totaling', 'ships', 'taken', 'king', 'trailer', 'ripped', 'hole', 'happens', 'internal', 'external', 'warcraft', 'young', 'german', 'marvel', 'dc', 'attention', 'mass', 'games', 'painting', 'playing', 'interested', 'o784', '50', 'remembered', 'australia', 'miss', 'son', 'electronic', 'fedex', 'longer', 'transport', 'bioterror', 'germs', 'anthrax', 'lab', 'mishaps', 'usatoday', 'pathogens', 'jacksonville', 'stops', 'shipping', 'potential', 'responds', 'tcot', 'transporting', 'certain', 'research', 'frontpage', 'faced', 'sanctions', 'rickperry', 'cut', 'foxnews', 'gopdebate', 'hold', '28', 'hearing', 'cdc', 'labs', 'willing', 'specimens', 'apple', 'hmm', 'problem', 'agents', 'deliver', 'atlanta', 'fear', 'jax', 'breakingnews', 'scoopit', 'concerns', 'bioterrorism', 'sir', 'region', 'iii', 'nasa', 'launch', 'carry', 'procedures', '90blks', '8whts', 'colluded', 'wht', 'f', 'usagov', 'auth', 'hostage', 'blk', 'lgl', 'idis', 'id', 'cover', 'keep', 'horrors', 'virus', 'public', 'health', 'security', 'wire', 'contact', 'wealth', 'yea', 'lies', 'cia', 'hollywood', 'daughter', 'aka', 'extra', 'yes', 'college', 'needed', 'preparedness', 'drill', 'running', 'pretty', 'list', 'concerned', 'gm', 'scientists', 'special', 'ebola', 'exist', 'ap', 'sucks', 'describing', 'future', 'fbi', 'abc', '75', 'efforts', 'afp', 'irandeal', 'activity', 'broken', '27', 'threat', 'fears', 'ahead', 'olympic', 'test', 'event', 'pool', 'looking', 'move', 'niggas', 'wanna', 'tour', 'listed', 'base', 'welcome', 'cleveland', 'living', 'jays', 'dutch', 'hair', 'poverty', 'weekend', 'losses', 'wildfire', 'nearly', 'old', 'firefighters', 'battling', 'hating', 'e', 'covered', 'months', 'detained', 'americans', 'bars', 'ugh', 'put', 'calories', 'pic', 'fort', 'writing', 'computers', 'letting', 'mad', 'dont', 'weeks', 'facebook', 'page', 'features', 'seek', 'experience', 'dj', 'farm', 'works', 'tweet', 'fail', 'promise', 'jr', 'huh', 'leo', 'sale', 'palms', 'guns', 'c', 'agree', 'crystal', 'blazing', 'fireman', 'party', 'listenlive', 'marketing', 'morgan', 'silver', 'dollar', 'gem', 'bu', 'ms', 'grade', 'bowl', 'skills', 'nothing', 'beats', 'swarm', 'online', 'turn', '32', 'weapons', 'expect', 'ash', 'lady', 'oh', 'racing', 'roof', 'fifth', 'spanish', 'word', 'origin', 'meaning', 'freezing', 'cold', 'enough', '95', 'degree', 'mid', 'sun', 'rn', 'sweat', 'bullets', 'words', 'fam', 'beyond', 'blessed', 'dude', 'respect', 'fantasy', 'bag', 'bother', 'song', 'tune', 'rare', 'proof', 'complete', 'giving', 'bitch', 'cake', 'throwing', 'follow', 'physical', 'ways', 'bleeding', 'threw', 'chicken', 'sisters', 'lip', 'joe', 'gel', 'nose', 'written', 'bunch', 'text', 'sending', 'allowed', 'stab', 'apparently', 'fine', 'walking', 'eating', 'hands', 'tears', 'vampiro', 'foot', 'toe', 'stepped', 'glass', 'pun', 'pain', 'ears', 'feet', 'cute', 'dinner', 'starts', 'silence', 'safer', 'violence', 'fell', 'favourite', 'characters', 'brain', 'lets', 'soccer', 'apartment', 'hes', 'kicked', 'ear', 'wedding', 'te', 'timeline', 'blew', 'bomb', 'active', 'line', 'instagram', 'jazz', 'entire', 'solar', 'cup', 'wont', 'notifications', '90', 'pulled', 'told', 'universe', 'max', 'tf', 'fired', 'ty', 'realized', 'snapchat', 'michele', 'brought', 'hoax', 'wind', 'skirt', 'mentions', '1st', 'everywhere', 'ray', 'light', 'skin', 'talking', 'kid', 'watched', 'honey', 'economy', 'recommend', 'falling', 'sean', 'zayn', 'pair', 'blight', 'theres', 'theory', 'ones', 'cycling', 'reward', 'soul', 'searching', 'required', 'jack', 'deep', 'roads', 'load', 'welfare', 'loving', 'society', 'bank', 'heights', 'info', 'beer', 'anti', 'loan', 'memphis', 'housing', 'releases', 'level', 'matters', 'author', 'sexual', 'stories', 'swear', 'result', 'app', 'community', 'policy', 'ohio', 'report', 'vacant', 'lands', 'open', 'gates', 'actual', 'refugee', 'tragedy', 'shame', 'article', 'metro', 'detroit', 'estimate', 'square', 'miles', 'art', '5000', 'wins', 'card', 'amazon', 'buy', 'print', 'blizzard', 'pay', 'cream', 'rock', 'dq', 'hi', 'rolling', 'caution', 'though', 'breaks', 'peanut', 'butter', 'announcement', 'updated', 'ideas', 'holy', 'leaving', 'candy', 'clutch', 'link', 'ima', 'bout', 'tho', 'pc', 'thoughts', 'market', 'technology', 'biggest', 'regret', 'paper', 'jeans', 'bruh', 'nah', 'cook', 'gone', 'wall', 'floor', 'broke', 'nail', 'morning', 'ah', 'hurts', 'treat', 'stars', 'kindle', 'associated', 'wounded', 'donate', 'headed', 'mean', 'smh', 'pressure', 'standard', 'large', 'bp', 'stressful', 'related', 'shoes', 'super', 'excellent', 'seriously', 'drug', 'tested', 'drown', 'somebody', 'gotta', 'fuckin', 'winds', 'sad', 'roll', 'jesus', 'runs', 'personal', 'include', 'royal', '5sos', 'innocent', 'daughters', 'land', 'sin', 'abortion', 'se', 'lightning', 'everyday', 'entered', 'enter', 'listening', 'jay', 'awful', 'xxx', 'stephen', 'bs', 'invasion', 'looked', 'ga', 'dare', 'tired', 'sexy', 'effects', 'low', 'floyd', 'money', 'hello', 'mega', 'sink', 'meet', 'friday', 'supposed', 'jones', 'arms', 'sitting', 'chair', 'killer', 'monday', 'williams', 'turns', 'rather', 'mystery', 'blown', 'bedroom', 'walls', 'choices', 'wow', 'club', 'fucked', 'player', 'inning', 'woke', 'probably', 'values', 'strike', 'crew', 'ur', 'mini', 'flying', 'soldiers', 'loses', 'mind', 'website', 'todd', 'blake', 'ee', 'shop', 'glad', 'half', 'sand', 'photos', 'watching', 'utterly', 'ladies', 'bb17', 'ankle', 'cunts', 'seat', 'butt', 'toilet', 'grab', 'nicki', 'minaj', 'minds', '6th', 'james', 'amirite', 'ra', 'al', 'ass', 'helps', 'bottle', 'shoulder', 'tote', 'handbag', 'cross', 'faux', 'fashion', 'purse', 'republicans', 'handbags', 'genuine', 'messenger', 'oak', 'buffalo', 'vuitton', 'monogram', 'sophie', 'limited', 'edition', 'bath', 'along', 'corners', 'thin', 'hip', 'hobo', 'womens', 'cage', 'find', '35', 'vintage', 'satchel', 'style', 'coach', 'camera', 'fit', 'tablet', 'saying', 'bagging', 'rose', 'smoking', 'drake', 'meek', 'killing', 'tea', 'point', 'k', 'league', 'tough', 'philly', 'acting', 'missed', 'straight', 'bitches', 'together', 'johnson', 'score', 'enjoy', 'definitely', 'track', 'dudes', 'spot', 'diss', 'mark', 'mill', 'patient', 'record', 'window', 'kept', 'hop', 'lay', 'stacey', 'dangerous', 'bags', 'color', 'po', '00', 'buckle', 'casual', 'stylish', 'pockets', 'appears', 'arriving', 'hall', 'charlotte', 'concert', 'variety', 'pack', 'fruit', 'firefighter', 'probe', 'putting', 'dept', 'football', 'players', 'locker', 'flower', 'chain', 'small', 'russian', 'va', 'calls', 'send', 'middle', 'giant', 'sized', 'garbage', 'colour', 'pics', 'bigger', 'congress', 'drinking', 'shoot', 'heal', 'smile', 'pattern', 'buying', 'investigating', 'washington', 'packs', 'solid', 'sports', 'coffee', 'positive', 'beforeitsnews', 'af', 'comments', 'picture', 'hiroshima', 'dropped', 'guardian', 'legacy', 'longs', 'fantastic', 'anyway', 'knows', 'threats', 'location', 'documents', 'gunman', 'carrying', 'marks', 'board', 'arm', 'ahh', 'baby', 'mail', 'known', 'dat', '2008', 'pray', 'idea', 'concept', 'impact', 'kyle', 'flat', 'thursday', 'anniversary', 'pepper', 'oops', 'coast', 'mf', 'amazing', 'bombed', 'centre', 'bluejays', 'bell', 'countries', 'libya', 'africa', 'arts', 'islamic', 'syria', 'turkey', 'armed', 'majority', 'ground', 'jet', 'main', 'forget', 'repeat', 'turkish', 'village', 'bathroom', 'yr', 'within', 'third', 'generation', 'democracy', 'cos', 'germany', 'poland', 'harbor', 'pre', 'hopefully', 'afghanistan', 'specific', 'feminist', 'traditional', 'nagasaki', 'forever', 'recover', 'according', 'lauren', 'villages', 'recently', 'finds', 'fed', 'pkk', 'belly', 'pass', 'ends', 'yrs', 'cities', 'notice', 'background', 'states', 'worse', 'hurricane', 'network', 'cryptic', 'guided', 'mission', '70th', 'schedule', 'visited', 'moral', 'bells', 'toll', 'marked', 'bill', 'clinton', 'plan', 'logic', 'bridge', 'ashes', 'trent', 'cricket', 'england', '60', 'central', 'relationship', 'btwn', 'reminds', 'injures', 'five', 'natural', 'calamity', 'cranes', 'holding', 'nearby', 'homes', 'icymi', 'warne', 'shocked', 'epic', 'johannesburg', 'aug', 'legendary', 'australian', 'throw', 'fox', 'mp', 'distance', 'aussie', 'stuff', 'gadgets', 'currently', 'likely', 'construction', 'buildings', 'rescuers', 'situation', 'lying', 'ooh', 'ed', 'deserves', 'upset', 'businesses', 'cops', 'etc', 'cash', 'register', 'blacklivesmatter', 'lives', 'matter', 'stealing', 'protest', 'greatest', 'boxer', 'babies', 'outta', 'mentally', 'rocky', 'threatening', 'largest', 'maintenance', 'rioting', 'looting', 'often', 'dreams', 'schools', 'western', 'uganda', 'strikes', 'riot', 'nation', 'losing', 'disgusting', 'thousand', 'forgot', 'sinking', 'chases', 'weak', 'winston', 'outrage', 'saving', 'alcohol', 'gbbo', 'explode', 'afternoon', 'equipment', 'grateful', 'riots', 'hazard', 'installation', 'non', 'cladding', 'www', 'mitigation', '2pm', 'burns', 'blows', 'destroys', 'multiple', 'downtown', 'hinton', 'ross', 'several', 'trucks', 'write', 'seven', 'different', 'dam', 'estate', 'houses', 'vehicles', 'sweden', 'rise', 'insurance', 'damages', 'band', 'rage', 'alarm', 'co', 'tips', 'expensive', 'lighting', 'remains', 'damaging', 'residential', 'camp', 'displaced', 'confirm', 'brother', 'finger', 'acres', 'progress', 'ages', 'content', 'derby', 'shower', 'barn', 'moon', 'cheese', 'plate', 'joke', 'fr', 'minutes', 'op', 'mph', 'pace', 'twice', 'lifting', '43', 'boyfriend', 'clothes', 'recorded', 'crap', 'wish', 'wood', 'complex', 'contained', 'blocks', 'social', '500', 'degrees', 'pro', 'dirt', 'bike', 'cutting', 'sparks', 'brush', 'sparked', 'yall', 'nap', 'wired', 'dem', 'skinny', 'workout', 'questions', 'chris', 'john', 'except', 'idk', 'zionism', 'keeps', 'mountains', 'caused', 'certainly', 'er', 'returned', 'method', 'muscle', 'bored', 'desire', 'goals', 'lou', 'boat', 'memories', 'apply', 'parents', 'counter', 'acts', 'press', 'conference', 'experiencing', 'understand', 'soup', 'diet', 'recipes', 'tickets', 'accidentally', 'planned', 'parenthood', 'stone', 'store', 'individuals', 'sounds', 'hear', 'tech', 'table', 'ppl', 'sex', 'magic', 'amongst', 'ruin', 'retweet', 'saved', 'pulling', 'causing', 'evacuations', 'ran', 'port', 'cancer', 'contemplating', 'destroying', 'crashing', 'chinese', 'attacking', 'burnt', 'express', 'stupid', 'bush', 'safe', 'winter', 'sydney', 'ted', 'mitt', 'omfg', 'drought', 'fuels', 'seems', 'blames', 'traumatised', 'hillary', 'holiday', 'relax', 'spain', 'swimming', 'water', 'scotland', 'wet', 'warming', 'catastrophic', 'photographer', 'service', 'crews', 'evacuate', 'affected', 'asap', 'eggs', 'casualties', 'warfighting', 'robots', 'reduce', 'civilian', 'calling', 'ban', 'premature', 'evil', 'afghan', 'sees', 'sharp', 'levels', 'eventually', 'higher', 'reminder', 'drinks', 'account', 'yemen', 'laughing', 'operation', 'fix', 'reach', 'purple', 'passed', 'confirmed', 'wrap', 'warns', 'iraq', 'iranian', 'tuned', 'idc', 'highest', '2009', 'washingtonpost', 'derailment', 'casualty', 'toronto', 'movement', 'commercial', 'grown', 'brings', 'cord', 'ocean', 'gray', 'population', 'pacific', 'groups', 'rate', 'quality', 'denver', 'become', 'arsenal', 'bound', 'chance', 'tag', 'recall', 'sends', 'industry', 'btw', 'september', 'telling', 'metrics', 'warships', 'nytimes', 'strong', 'insurers', 'nuke', 'millions', 'mix', 'agreed', 'catastrophe', 'joy', 'suffering', 'interest', 'republic', 'continue', 'failure', 'opens', 'teacher', 'iphone', 'ultimate', 'prevent', 'political', 'silent', 'prime', 'bless', 'generally', 'company', 'repair', 'emotional', 'lorries', 'field', 'hilarious', 'ceo', 'temper', 'results', 'anymore', 'controlled', 'bottom', 'friends', 'regular', '48', 'bbc', 'becomes', 'race', 'success', 'vegas', 'learning', 'eruption', 'benefits', 'acute', 'takes', 'ptsd', 'follows', 'bombings', 'felt', 'mistake', 'replace', 'wearing', 'british', 'yorker', 'excited', 'debt', 'audio', 'stream', 'clear', 'hazardous', 'chemical', 'management', 'brothers', 'armory', 'sf', 'illinois', 'units', 'simulate', 'nu', 'sharethis', 'biological', 'radioactive', 'md', 'bee', 'companies', 'savebees', 'operations', 'underway', 'collapsed', 'bees', 'instead', 'toxic', 'harm', 'spill', 'opening', 'seattle', 'dependency', 'counselor', 'intern', 'respond', 'pipe', 'drugs', 'marijuana', 'alert', 'planning', 'suppose', 'term', 'cleanup', 'object', 'hungry', 'responders', '15pm', 'pop', 'cliff', 'proceeds', 'neil', 'manager', 'billings', 'slip', 'mate', 'collapses', 'chunks', 'china', 'brian', 'climb', 'capture', 'bride', 'groom', 'alex', 'facts', 'elite', 'adding', 'sleep', 'balance', '87', 'snap', 'streak', 'lil', 'trip', 'landslide', 'crack', 'lower', 'ha', 'revealed', 'visit', 'easily', 'dublin', 'paramedic', 'blow', 'option', 'vinyl', 'yahoo', 'interview', 'actions', 'lasting', 'blowout', 'trapped', 'tent', 'revenues', 'continues', 'talks', 'absolutely', 'loves', 'images', 'correction', 'sa', 'president', 'oral', 'fixing', 'wi', 'growth', 'oil', 'price', 'pin', 'bake', 'dorret', 'chocolate', 'gateau', 'jan', 'standing', 'catching', 'bowling', 'crowd', 'angry', 'burst', 'lungs', 'coaches', 'course', 'tongue', 'cum', 'breathe', 'forced', 'heartless', 'whipped', 'animal', 'officer', 'betrayed', 'rid', 'planted', 'fav', 'cost', 'answers', 'considering', 'duty', 'ep', 'collide', 'waves', 'tide', 'cigarette', 'immediately', 'worlds', 'chosen', 'shanghai', 'avenue', 'thunderstorm', 'singing', 'fill', 'sat', 'strange', 'castle', 'supernatural', 'electric', 'vancouver', 'host', 'events', 'suddenly', 'houston', 'powerful', 'buses', 'either', 'simple', 'cyclist', 'collided', 'runner', 'roanoke', '300000', 'verdict', 'none', 'targets', 'selfie', 'ask', 'suffered', 'injuries', 'lock', 'force', 'however', 'quest', 'gold', 'monsoon', 'rains', 'trains', 'suv', 'closes', 'highway', 'anna', '26', 'towards', 'driven', 'tyre', 'posted', 'heads', 'rescued', '200', 'fishing', 'dan', 'hughes', 'hurt', 'san', 'room', 'bicyclist', 'justinbieber', 'harrybecareful', 'restore', 'collision', 'broadway', 'local', 'sac', 'blvd', 'trfc', '1141', 'enrt', '52', 'franklin', 'eb', 'ag', 'inj', 'rear', 'baltimore', '54', 'tunnel', 'bore', 'southbound', 'starting', '4000', 'valley', 'occupants', 'joining', 'sacramento', 'i5', '43rd', 'cleared', 'bodies', 'warned', 'beginners', 'lover', 'alright', 'source', 'fwy', 'delays', 'apparent', 'fans', 'prayers', 'photoshop', 'tools', 'tool', 'guide', 'hills', 'sampling', '33', 'tutorial', 'maj', 'mi', 'mansehra', 'avoiding', 'microlight', 'landing', 'remove', 'pump', 'uk', 'intact', 'mh370', 'sea', 'bug', 'euro', 'northwest', 'tuesday', 'asking', 'log', 'bear', 'loss', 'phones', 'sources', 'persons', 'faster', 'honestly', 'places', 'mhtw4fnet', 'posting', 'crush', 'vine', 'realize', 'holland', 'crushed', 'wrapup', 'cable', 'shares', 'disney', 'disappoints', 'jimmyfallon', 'bones', 'bio', 'worstsummerjob', 'stress', 'gym', 'clearly', 'christ', '41', 'nike', 'gps', 'reap', 'character', 'slate', 'curfew', 'reporting', 'fighters', 'aim', 'attacks', 'shut', 'spend', 'campus', 'stolen', 'stuck', 'wnd', 'inst', 'apch', 'rwy', 'oper', '2030', 'taxiways', 'foxtrot', 'navbl', 'tmp', 'nope', 'grove', 'blind', 'final', 'cancel', 'cats', 'doctor', 'decided', 'pays', 'freedom', 'di', 'unlocking', 'judge', 'dis', '5pm', 'cyclone', 'ten', 'annual', 'photography', 'tropical', 'de', 'tribune', 'pam', 'condition', 'severe', 'bulletin', 'typhoon', 'soudelor', 'issued', 'calm', 'ne', 'komen', 'tom', 'given', 'talent', 'asia', 'bangladesh', 'address', 'mercury', 'cobra', 'quarter', 'panel', 'maximum', 'speed', 'fate', 'delivers', 'rohingya', 'damaged', 'drop', 'unions', 'gta', '36', 'fitness', 'knee', 'solution', 'phoenix', 'transit', 'wy', 'cm', 'pieces', 'deals', 'tree', 'falls', 'key', 'offer', 'crosses', '3rd', 'instant', 'np', 'isis', 'model', 'cam', 'pussy', 'asian', 'nude', 'cry', 'occurs', 'madison', 'ar', 'wound', 'foreign', 'initial', 'encounter', 'jim', 'wounds', 'constantly', 'danger', 'changes', 'union', 'release', 'blast', 'rockin', 'preview', 'claytonbryant', 'artistsunited', 'dry', 'thunderstorms', 'fish', 'eaten', 'govt', 'concern', 'anger', 'fettilootch', 'slanglucci', 'oppressions', 'especially', 'uber', 'recent', 'cave', 'diving', 'spider', 'critical', 'rest', 'robert', 'born', 'rights', 'law', 'legit', 'luis', 'emmerdale', 'nd', 'named', 'gameplay', 'hundreds', 'migrant', 'capsizes', 'rescue', 'flaming', 'debate', 'study', 'download', 'trend', 'mikeparractor', 'b4', 'taiwan', 'val', 'summerfate', 'bff', 'boys', 'rep', 'adult', 'plague', 'ring', 'ferguson', 'supports', 'hang', 'recognize', 'shitty', 'arianagrande', 'comparison', 'analysis', 'mullah', 'omar', 'journalist', 'predicted', 'cecilthelion', '53', 'legionnaires', 'rises', 'deaths', 'bigamist', 'pregnant', 'voter', 'shipwreck', 'blame', 'milk', 'resistant', 'usually', 'older', 'seemed', 'focus', 'lunch', 'stewart', 'julian', 'earlier', 'warn', 'annoying', 'auto', '25', 'signs', 'minister', 'arabia', 'resulted', 'increased', '13000', 'percent', 'walmart', 'steps', 'average', 'age', 'pls', 'uses', 'th', 'malaysia', 'airlines', 'flight', '370', 'discovered', 'confirms', 'washed', 'floated', 'york', 'surely', 'disappearance', 'relatives', 'discovery', 'malaysian', 'seem', 'belongs', 'interesting', 'explains', 'deluge', 'nature', 'feed', 'inevitable', 'decide', 'cakes', 'resources', 'floods', 'workers', 'sympathy', 'wa', 'stock', 'despite', 'minded', 'camping', 'odd', 'torso', 'scale', 'client', 'swing', 'period', 'shepherd', 'portion', 'surf', 'therapy', 'perhaps', 'truly', 'owners', 'posts', 'fixed', 'heaven', 'warm', 'evening', 'teaching', 'jeff', 'healing', 'nfl', 'wanting', 'search', 'peaceful', 'william', 'darkness', 'tons', 'deluged', 'invoices', 'shape', 'rainfall', 'abe', 'image', 'quiz', 'senate', 'republican', 'meant', 'moved', 'migrants', 'com', 'gerenciatodos', 'patience', 'intensity', 'feelings', 'capital', 'strategy', 'demolish', 'enugu', 'structures', 'international', 'birmingham', 'brady', 'radar', 'negative', 'abbswinston', 'zionist', 'jordan', 'ex', 'assembly', 'articles', 'root', 'xd', 'partner', 'whether', 'opinion', 'demolished', 'integrity', 'spring', 'saddlebrooke', 'finish', 'former', 'palestinians', 'kidnapped', 'election', 'demolition', 'halifax', 'factors', 'psychiatric', 'frog', 'michigan', 'waterways', 'grill', 'fkn', 'finishing', 'med', 'weight', 'cont', 'kit', 'kaduna', 'paint', 'widespread', 'removal', '1200', 'mr', 'enemy', 'derail', 'destiny', 'blessings', 'wmata', 'sms', 'birth', 'remain', 'rail', 'madhya', 'pradesh', 'necessary', 'dallas', 'tubestrike', 'mood', 'smithsonian', 'campaign', 'bid', 'dozens', 'italian', 'recovery', 'unsuckdcmetro', 'derailed', 'modi', 'yahoonews', 'updates', 'subject', 'federal', 'sw', 'passengers', 'commute', 'wash', 'passenger', 'derails', 'note', 'title', 'chief', '1000', 'empty', 'links', 'jon', 'barely', 'mt', 'relief', 'reaches', 'mess', 'dw', 'offers', 'biker', 'undercover', 'cnn', 'wonder', 'railway', 'freakiest', 'freak', 'modiministry', 'struck', 'csx', 'knoxville', 'sentinel', 'villagers', 'cow', 'fd', 'prabhu', 'twin', 'helping', 'charge', 'anxious', 'cta', 'tube', 'desolate', '39', 'garden', 'attitude', 'soundcloud', 'swells', 'daniel', 'abomination', 'neighborhood', 'gotten', 'brutally', 'mum', 'hundred', 'desolation', 'hobbit', 'smaug', 'loose', 'break', 'thriller', 'panic', '57', 'hd', 'trouble', 'letters', 'neither', 'wicked', '10th', 'december', 'effect', 'loop', 'interviews', 'ops', 'multiplayer', 'smash', 'meme', 'asleep', 'creativity', 'path', 'crackdown', 'servers', 'tryna', 'childhood', 'hunger', 'moth', 'catch', 'twins', 'rating', 'swim', 'lonely', 'hated', 'emotionally', 'reportedly', 'ut', 'grenade', 'bot', 'survived', 'recap', 'porn', 'size', 'cock', 'stuart', 'broad', 'ford', 'drives', 'ontario', 'plant', 'restricted', 'demonstratio', 'fly', 'banned', 'border', 'imported', 'ukraine', 'independent', 'symphony', 'ruined', 'equal', 'detonate', 'antioch', 'apollo', 'ft', 'aw', 'touch', 'surface', 'apollobrown', 'message', 'autumn', 'ignition', 'knock', 'detonation', 'sensor', 'senso', 'fits', 'connector', 'connecto', 'quotes', 'belt', 'regarding', 'electrical', '01', 'entering', 'famous', 'brand', 'fashionable', 'mountaineering', 'couples', 'leisure', 'tab', '02', 'consequences', '97', 'devastated', 'anybody', 'richmond', 'jam', 'declares', 'saipan', 'declaration', 'declared', 'marians', 'ticket', 'abcnews', 'cain', 'aussies', 'devastation', 'utter', 'shock', 'alternatives', 'struggles', 'wrought', 'latestnews', 'cnbc', 'decades', 'nepal', 'quake', 'environmental', 'korea', 'settlement', 'terms', 'urgent', 'msf', 'mediterranean', 'haiyan', 'philippines', 'attempt', 'return', 'locke', 'starter', 'cinema', 'insurer', 'lack', 'emotions', 'scifi', 'quote', 'pitch', 'playoffs', 'van', '30pm', 'sittwe', 'prison', 'conditions', 'genocide', 'ihhen', 'refugees', '55', 'strategicpatience', 'idp', 'internally', 'openly', 'accuses', 'nema', 'materials', 'idps', 'wom', 'opened', 'museum', 'memes', 'expert', 'nm', 'township', 'carried', 'arrest', 'elem', 'disasters', 'extreme', 'okanagan', 'humidity', 'columbia', 'cloud', 'ego', 'weed', 'affects', 'pizza', 'desert', 'rapidly', 'bringing', 'loud', 'created', 'noise', 'memory', 'information', 'drowned', 'clev', 'sort', 'memorial', 'gamergate', 'english', 'existence', 'cafe', 'tracking', 'surprise', 'drowning', 'caitlin', 'kiernan', 'centipede', 'numbered', 'grace', 'trees', 'superhero', 'epilepsy', '911', 'challenge', 'spirits', 'costs', 'rs', 'ns', 'dust', 'clouds', 'outflow', 'create', 'gusts', 'blowing', 'guard', 'thunder', 'screenshots', 'combat', 'magnum', 'opus', 'circle', 'sismo', 'time2015', 'utc2015', '09', 'utc', 'seismic', 'sicily', 'users', 'usgs', 'eq', 'ml', '15km', 'anchorage', 'oklahoma', 'limit', 'sm', 'significant', 'm1', '94', '5km', 'volcano', 'hawaii', '04', '6aug', 'encouragement', 'apocalyptic', 'tsunami', 'electrocute', 'blanket', 'extends', 'animals', 'unsafe', 'unlocked', 'tries', 'charging', 'computer', 'asshole', 'fair', 'beard', 'conversation', 'senator', 'electrocuted', 'stick', 'lightening', 'elephant', 'factory', 'map', 'bbcnews', 'plug', 'wondering', 'charger', 'worked', 'cat', 'vacation', 'supervisor', 'cree', 'tooth', 'dental', 'kuwait', 'type', 'present', 'designed', 'reopening', 'nurse', 'healthcare', 'ak', 'fund', 'teams', 'responded', 'declined', 'slide', 'closing', '600', 'troops', 'activated', 'municipal', 'reddit', 'activates', 'yyc', 'abstorm', 'waste', 'capacity', 'nw', 'workplace', 'retail', 'sick', 'vets', 'prompts', 'thats', 'providence', 'nursing', 'served', 'veterans', 'vet', 'veteran', 'access', 'brooklyn', 'budget', 'robinson', 'systems', 'stressed', 'grey', 'normal', 'registered', 'engulfed', 'parley', 'canyon', 'tribal', 'madinah', 'prophetmuhammad', 'islam', 'travel', 'chaos', 'tidal', 'screamed', 'dear', 'golf', 'epicentre', 'becoming', 'prompted', 'doors', 'monster', 'tram', 'powerlines', 'speak', 'replacing', 'sites', 'abandon', 'alarms', 'abandoned', 'grew', 'quick', 'milkshake', 'criminal', 'murderous', 'evacuated', 'roosevelt', 'ordered', 'koin6news', 'mall', 'trafford', 'odeon', '12000', 'portland', 'miami', 'casper', 'tr', 'safely', 'faan', 'sheriff', 'advisory', 'vietnam', 'patch', 'bend', 'hr', 'ridge', 'voluntary', 'individual', 'aid', 'gives', 'yellow', 'cabin', 'reid', 'ink', 'ryan', 'earners', 'reaching', 'spinning', 'hitting', 'dating', 'ill', 'tie', 'exploded', 'chelsea', 'pets', 'dress', 'screen', 'otrametlife', '1945', 'noticed', 'matches', 'mentioned', 'reasons', 'meter', 'station', 'goal', 'warship', 'hahaha', 'tempered', 'protector', 'blackberry', 'z10', 'recalls', 'attendance', 'saturday', 'slow', 'rocks', 'southeast', 'logo', 'mental', 'greg', 'moments', 'writer', 'battery', 'button', 'rules', 'eyewitness', 'voting', 'projects', 'dramatic', 'investigation', 'heroes', 'charges', 'particularly', 'dk', 'denmark', 'auctions', 'shedding', 'married', 'crematoria', 'provoke', 'famine', 'soviet', 'poll', 'suffer', 'feast', 'example', 'feeding', 'eastern', 'experienced', 'smell', 'adventures', 'conquest', 'refused', 'lego', 'manslaughter', 'sh', 'walker', 'investigators', 'waimate', 'vermont', 'permanent', 'crimes', 'courts', 'fatalities', 'eight', 'las', 'mortal', 'kombat', 'numbers', 'mkx', 'meat', 'estimated', 'bite', 'cousin', 'pedestrian', '8th', 'increase', 'yep', 'projected', 'capsized', 'irish', 'cyclists', 'fatality', '109', 'sws', 'captain', 'falcon', 'wit', 'soldier', 'combined', 'picked', 'drove', 'organizations', 'primary', 'understanding', 'opposite', 'unawares', 'depth', 'solitude', 'shaking', 'unknown', 'files', 'combo', 'harry', 'teachers', 'structure', 'reno', 'catches', 'sigalert', '133', 'langley', 'taco', 'wayne', 'choose', 'besides', 'curb', 'vip', 'brave', 'heading', 'hat', 'cap', 'embroidered', 'maryland', 'mansion', 'rising', 'flattened', 'gain', 'zouma', 'birds', 'chest', 'picking', 'statement', 'marine', 'bluetooth', 'steam', 'earrings', 'slowly', 'toward', 'wx', '53inch', '300w', 'curved', 'led', 'offroad', 'fog', 'lamp', 'waters', 'socialnews', '2pcs', '18w', '4wd', 'beam', 'cue', 'outdoor', 'coastal', 'trench', 'shelby', 'cdt', 'funds', 'edt', 'nws', 'mud', 'prone', 'cuban', 'environment', 'storms', 'random', '166', 'displace', 'vision', 'lrt', 'parts', 'unveiled', 'tony', 'tornadoes', 'plaguing', 'farrakhan', 'camps', 'bjp', '69', 'approaches', 'otherwise', 'itunes', 'apc', 'bayelsa', 'pisgah', 'grows', '375', 'stamp', 'indonesia', 'angels', 'spending', 'tape', 'clash', 'mike', 'arwx', 'massive', 'stays', 'affecting', 'melt', 'yycstorm', 'boston', 'okwx', 'hailstorm', 'gems', 'profile', 'northeast', '45', 'stranded', 'penalties', 'cupcake', 'tests', 'scars', 'foul', 'triggered', 'choking', 'battlefield', 'closures', 'eden', 'highly', 'leg', 'email', 'swansea', 'outlook', 'hwo', 'foodscare', 'offers2go', 'nestleindia', 'slips', 'magginoodle', 'humanconsumption', 'olap', 'needle', 'rush', 'vulnerable', 'olive', 'ireland', 'prefer', 'longest', 'triple', 'digit', 'enjoying', 'cooler', 'hellfire', 'prophet', 'surrounded', 'desires', 'afterlife', 'beware', 'describes', 'piling', 'description', 'surah', 'humaza', 'reflect', 'kind', 'sub', 'sewing', 'tension', 'jonathan', 'hijack', 'pdp', 'sight', 'patched', 'os', 'exploit', 'bypass', 'password', 'criminals', 'nigerian', 'transfer', 'southampton', 'virgil', 'dijk', 'specially', 'oregon', 'governor', 'allows', 'parole', 'hijacker', '1976', 'linkury', 'browser', 'medieval', 'earnings', 'hijacking', 'funtenna', 'prebreak', 'samaritans', 'sue', 'croatian', 'held', 'threatens', 'egypt', 'croat', 'europe', 'auspol', 'wreckage', 'hostages', '130', 'modified', 'stadium', '1980', '3g', 'sinjar', 'massacre', 'yazidis', 'role', 'ts', 'nri', 'trs', 'tdp', 'bang', 'boko', 'haram', 'referring', 'yazidi', 'guillermo', 'noaa', 'looping', 'wed', 'bluedio', 'turbine', 'wireless', 'stereo', 'headphones', 'headset', 'surge', 'tastes', 'lately', 'foster', 'leveled', 'scott', 'mcilroy', 'forgiven', 'forgotten', 'possibly', 'rich', 'problems', 'devalue', 'digits', '495', 'georgia', 'volga', 'domestic', 'inundated', 'applications', 'friendship', 'inundation', 'sinkhole', 'dundee', 'paris', 'opposition', 'alps', 'soak', 'lava', 'pantherattack', 'shark', 'cries', 'reshapes', 'gusty', 'footage', 'unconfirmed', 'neighbour', 'abbott', 'chewing', 'arrive', 'matako', 'walked', 'laugh', 'whales', 'faroeislands', 'cbc', 'minority', 'commit', 'blah', 'murderer', 'belonged', 'gunsense', 'step', 'decisions', 'copycat', 'channel', 'murdered', 'mayhem', 'editor', 'diamondkesawn', 'ramag', 'models', 'bully', 'disco', 'drum', 'sp', 'uniform', 'experiments', '731', 'leadership', 'lulgzimbestpicts', 'supreme', 'mudslide', 'mirage', 'unavoidable', 'consequence', 'socialism', 'design', 'executives', 'prosecuted', 'chernobyl', 'radiation', 'responsibility', 'finnish', 'reactor', 'ancient', 'circuit', 'sidelines', 'newest', 'subs', 'ministers', 'fennovoima', 'obliterate', 'sarah', 'palin', 'bb4sp', 'trials', 'battleship', 'obliterated', 'predict', 'meals', 'reduced', 'batters', 'obliteration', 'canaanites', 'worldnetdaily', 'startup', 'larger', 'refugio', 'costlier', 'plains', 'pipeline', 'nyt', 'briefing', 'outbreak', 'disea', 'edinburgh', 'bronx', 'pandemonium', 'alabama', 'returns', 'panicking', 'shook', 'hurry', 'flip', 'hardy', 'boot', 'bounty', 'university', 'quarantine', 'onlinecommunities', 'offensive', 'promises', 'communities', 'founder', 'huffman', 'specif', 'subreddits', 'quarantined', 'exchange', 'elevated', 'rainstorm', 'yobe', 'rome', 'thru', 'razed', 'advance', 'sandiego', 'newlyweds', 'cameroon', 'repatriated', 'whao', 'oc', 'shared', 'animalrescue', 'structural', 'lived', 'buried', 'mediterran', 'carryi', 'nickcannon', 'realmandyrain', 'itunesmusic', 'blowmandyup', 'drag', 'salvador', 'happiness', 'wee', 'venezuela', 'decision', 'rubble', 'forbes', '360wisenews', 'fresh', 'sandstorm', 'swallowed', 'darude', 'languages', 'screams', 'rly', 'exploration', 'gabon', 'somalia', 'speaker', 'detectado', 'jap', 'jst', 'seeks', 'selfies', 'swallows', 'pond', 'lowndes', 'disrupts', 'trolley', 'crater', 'unhappiness', 'realise', 'siren', 'foxy', 'gunfire', 'snowstorm', 'hoping', 'sassy', 'hunk', 'smoky', 'aoms', 'ibooklove', 'bookboost', 'boeing', 'captured', 'pillow', 'nasahurricane', 'satellite', 'stretcher', 'invalid', 'grazed', 'rexyy', 'towel', 'min', 'witter', 'virgin', 'galactic', 'spaceship', 'braking', 'brakes', 'citizens', 'vest', 'bestnaijamade', '16yr', 'bomber', 'detonated', 'lessons', 'esh', 'kurdish', 'militant', 'hamas', 'egged', '361', 'sunk', 'ornament', 'stomach', 'drawn', 'haunting', 'reality', 'quran', 'naved', 'metrofmtalk', 'overnight', 'buddys', 'miners', 'mama', 'shakes', 'usnwsgov', 'continued', 'recount', 'plunging', 'chile', 'starring', 'godslove', 'thanku', 'twister', 'landfall', 'precipitation', 'measurement', 'upheaval', 'mayan', 'hieroglyphics', 'honors', 'lowly', 'impacted', 'pov', 'amsterdam', 'schiphol', 'jupiter', 'karymsky', 'earthquakes', 'lethal', 'dannyonpc', 'hardline', 'throwingknifes', 'whirlwind', 'parker', 'idfire', 'windstorm', 'hike', 'twia', 'gunmen', 'exchanging', 'gunshot', 'kerricktrial', 'conclusively', 'wrecked', 'cramer', 'iger'])"
            ]
          },
          "metadata": {
            "tags": []
          },
          "execution_count": 33
        }
      ]
    },
    {
      "cell_type": "code",
      "metadata": {
        "colab": {
          "base_uri": "https://localhost:8080/"
        },
        "id": "RQVPZ8jjdPk7",
        "outputId": "cf092423-bb43-47a8-9425-748ed26036a7"
      },
      "source": [
        "w2v_model.train(documents, total_examples=len(documents), epochs=W2V_EPOCH)"
      ],
      "execution_count": 34,
      "outputs": [
        {
          "output_type": "execute_result",
          "data": {
            "text/plain": [
              "(1807503, 2259392)"
            ]
          },
          "metadata": {
            "tags": []
          },
          "execution_count": 34
        }
      ]
    },
    {
      "cell_type": "code",
      "metadata": {
        "colab": {
          "base_uri": "https://localhost:8080/"
        },
        "id": "9jo895HDdalc",
        "outputId": "eb618d8e-30e5-4a42-9783-5db315736f33"
      },
      "source": [
        "w2v_model.most_similar(\"forest\")"
      ],
      "execution_count": 35,
      "outputs": [
        {
          "output_type": "stream",
          "text": [
            "/usr/local/lib/python3.7/dist-packages/ipykernel_launcher.py:1: DeprecationWarning: Call to deprecated `most_similar` (Method will be removed in 4.0.0, use self.wv.most_similar() instead).\n",
            "  \"\"\"Entry point for launching an IPython kernel.\n"
          ],
          "name": "stderr"
        },
        {
          "output_type": "execute_result",
          "data": {
            "text/plain": [
              "[('national', 0.9120702147483826),\n",
              " ('service', 0.9074880480766296),\n",
              " ('wild', 0.8944728374481201),\n",
              " ('budget', 0.8941150903701782),\n",
              " ('fires', 0.8912601470947266),\n",
              " ('spending', 0.8849135637283325),\n",
              " ('acres', 0.8813414573669434),\n",
              " ('fighting', 0.8727735877037048),\n",
              " ('bush', 0.8720462918281555),\n",
              " ('contained', 0.8718241453170776)]"
            ]
          },
          "metadata": {
            "tags": []
          },
          "execution_count": 35
        }
      ]
    },
    {
      "cell_type": "code",
      "metadata": {
        "colab": {
          "base_uri": "https://localhost:8080/"
        },
        "id": "dPyH428fd55Y",
        "outputId": "08184a68-f444-4d54-852b-cf73230781d4"
      },
      "source": [
        "tokenizer = Tokenizer()\n",
        "tokenizer.fit_on_texts(df_train.text)\n",
        "\n",
        "vocab_size = len(tokenizer.word_index) + 1\n",
        "print(\"Total words\", vocab_size)"
      ],
      "execution_count": 36,
      "outputs": [
        {
          "output_type": "stream",
          "text": [
            "Total words 15622\n"
          ],
          "name": "stdout"
        }
      ]
    },
    {
      "cell_type": "code",
      "metadata": {
        "id": "BzbQTHdOjMJh"
      },
      "source": [
        "x_train = pad_sequences(tokenizer.texts_to_sequences(df_train.text), maxlen=SEQUENCE_LENGTH)\n",
        "x_test = pad_sequences(tokenizer.texts_to_sequences(df_test.text), maxlen=SEQUENCE_LENGTH)"
      ],
      "execution_count": 76,
      "outputs": []
    },
    {
      "cell_type": "code",
      "metadata": {
        "colab": {
          "base_uri": "https://localhost:8080/"
        },
        "id": "31rl5xV_js4t",
        "outputId": "b75cbfb3-2de1-48fc-b656-378bbf36836e"
      },
      "source": [
        "labels = df_train.target.unique().tolist()\n",
        "labels"
      ],
      "execution_count": 62,
      "outputs": [
        {
          "output_type": "execute_result",
          "data": {
            "text/plain": [
              "[1, 0]"
            ]
          },
          "metadata": {
            "tags": []
          },
          "execution_count": 62
        }
      ]
    },
    {
      "cell_type": "code",
      "metadata": {
        "colab": {
          "base_uri": "https://localhost:8080/"
        },
        "id": "8i6__xB7kaqT",
        "outputId": "8c1f06f0-4afd-4a92-f990-36d53cc8806e"
      },
      "source": [
        "y_train = np.array(df_train.target.tolist())\n",
        "y_train = y_train.reshape(-1,1)\n",
        "print(\"y_train\",y_train.shape)"
      ],
      "execution_count": 63,
      "outputs": [
        {
          "output_type": "stream",
          "text": [
            "y_train (7613, 1)\n"
          ],
          "name": "stdout"
        }
      ]
    },
    {
      "cell_type": "code",
      "metadata": {
        "colab": {
          "base_uri": "https://localhost:8080/"
        },
        "id": "y90YOhzflXP5",
        "outputId": "8284034a-7de5-4132-b6b5-a5a637a32406"
      },
      "source": [
        "print(\"x_train\", x_train.shape)\n",
        "print(\"y_train\", y_train.shape)\n",
        "print()\n",
        "print(\"x_test\", x_test.shape)"
      ],
      "execution_count": 64,
      "outputs": [
        {
          "output_type": "stream",
          "text": [
            "x_train (7613, 50)\n",
            "y_train (7613, 1)\n",
            "\n",
            "x_test (3263, 50)\n"
          ],
          "name": "stdout"
        }
      ]
    },
    {
      "cell_type": "code",
      "metadata": {
        "colab": {
          "base_uri": "https://localhost:8080/"
        },
        "id": "KIj7YWNOlaki",
        "outputId": "a867b5b4-3330-4b2d-95e9-f1a196ca4c82"
      },
      "source": [
        "y_train[:10]"
      ],
      "execution_count": 65,
      "outputs": [
        {
          "output_type": "execute_result",
          "data": {
            "text/plain": [
              "array([[1],\n",
              "       [1],\n",
              "       [1],\n",
              "       [1],\n",
              "       [1],\n",
              "       [1],\n",
              "       [1],\n",
              "       [1],\n",
              "       [1],\n",
              "       [1]])"
            ]
          },
          "metadata": {
            "tags": []
          },
          "execution_count": 65
        }
      ]
    },
    {
      "cell_type": "code",
      "metadata": {
        "colab": {
          "base_uri": "https://localhost:8080/"
        },
        "id": "QEMHh7hZlhld",
        "outputId": "17388d73-9f4b-4cf8-8ef5-85d8776b3099"
      },
      "source": [
        "embedding_matrix = np.zeros([vocab_size, W2V_SIZE])\n",
        "for word,idx in tokenizer.word_index.items():\n",
        "    if word in w2v_model.wv:\n",
        "        embedding_matrix[idx] = w2v_model.wv[word]\n",
        "print(embedding_matrix.shape)"
      ],
      "execution_count": 66,
      "outputs": [
        {
          "output_type": "stream",
          "text": [
            "(15622, 300)\n"
          ],
          "name": "stdout"
        }
      ]
    },
    {
      "cell_type": "code",
      "metadata": {
        "id": "9Lf1TrCAn_Gb"
      },
      "source": [
        "embedding_layer = Embedding(vocab_size, W2V_SIZE, weights=[embedding_matrix], input_length=SEQUENCE_LENGTH, trainable=False)"
      ],
      "execution_count": 89,
      "outputs": []
    },
    {
      "cell_type": "code",
      "metadata": {
        "colab": {
          "base_uri": "https://localhost:8080/"
        },
        "id": "CARBQCp3oi8Y",
        "outputId": "40549a83-2b74-4708-cac0-c0001584ff1b"
      },
      "source": [
        "model = Sequential()\n",
        "model.add(embedding_layer)\n",
        "#model.add(Dropout(0.5))\n",
        "model.add(LSTM(100, dropout=0.1, recurrent_dropout=0.1))\n",
        "model.add(Dense(1, activation='sigmoid'))\n",
        "\n",
        "model.summary()"
      ],
      "execution_count": 90,
      "outputs": [
        {
          "output_type": "stream",
          "text": [
            "WARNING:tensorflow:Layer lstm_5 will not use cuDNN kernel since it doesn't meet the cuDNN kernel criteria. It will use generic GPU kernel as fallback when running on GPU\n",
            "Model: \"sequential_5\"\n",
            "_________________________________________________________________\n",
            "Layer (type)                 Output Shape              Param #   \n",
            "=================================================================\n",
            "embedding_3 (Embedding)      (None, 50, 300)           4686600   \n",
            "_________________________________________________________________\n",
            "lstm_5 (LSTM)                (None, 100)               160400    \n",
            "_________________________________________________________________\n",
            "dense_5 (Dense)              (None, 1)                 101       \n",
            "=================================================================\n",
            "Total params: 4,847,101\n",
            "Trainable params: 160,501\n",
            "Non-trainable params: 4,686,600\n",
            "_________________________________________________________________\n"
          ],
          "name": "stdout"
        }
      ]
    },
    {
      "cell_type": "code",
      "metadata": {
        "id": "15iNeIFH0xb8"
      },
      "source": [
        "model.compile(loss='binary_crossentropy',\n",
        "              optimizer=\"adam\",\n",
        "              metrics=['accuracy'])"
      ],
      "execution_count": 91,
      "outputs": []
    },
    {
      "cell_type": "code",
      "metadata": {
        "id": "G5iKNn8d0z4B"
      },
      "source": [
        "callbacks = [ ReduceLROnPlateau(monitor='val_loss', patience=5, cooldown=0),\n",
        "              EarlyStopping(monitor='val_acc', min_delta=1e-4, patience=5)]"
      ],
      "execution_count": 92,
      "outputs": []
    },
    {
      "cell_type": "code",
      "metadata": {
        "colab": {
          "base_uri": "https://localhost:8080/"
        },
        "id": "wyCRXMs205N1",
        "outputId": "6ae678b6-cded-430f-d7ea-fd203f2fb20c"
      },
      "source": [
        "history = model.fit(x_train, y_train,\n",
        "                    batch_size=BATCH_SIZE,\n",
        "                    epochs=EPOCHS,\n",
        "                    verbose=1)#,\n",
        "                    #callbacks=callbacks)"
      ],
      "execution_count": 93,
      "outputs": [
        {
          "output_type": "stream",
          "text": [
            "Epoch 1/50\n",
            "238/238 [==============================] - 39s 156ms/step - loss: 0.5301 - accuracy: 0.7525\n",
            "Epoch 2/50\n",
            "238/238 [==============================] - 37s 155ms/step - loss: 0.4649 - accuracy: 0.7898\n",
            "Epoch 3/50\n",
            "238/238 [==============================] - 37s 156ms/step - loss: 0.4484 - accuracy: 0.7947\n",
            "Epoch 4/50\n",
            "238/238 [==============================] - 37s 156ms/step - loss: 0.4326 - accuracy: 0.8047\n",
            "Epoch 5/50\n",
            "238/238 [==============================] - 37s 155ms/step - loss: 0.4239 - accuracy: 0.8095\n",
            "Epoch 6/50\n",
            "238/238 [==============================] - 37s 157ms/step - loss: 0.4095 - accuracy: 0.8130\n",
            "Epoch 7/50\n",
            "238/238 [==============================] - 37s 156ms/step - loss: 0.3987 - accuracy: 0.8237\n",
            "Epoch 8/50\n",
            "238/238 [==============================] - 37s 155ms/step - loss: 0.3842 - accuracy: 0.8287\n",
            "Epoch 9/50\n",
            "238/238 [==============================] - 37s 158ms/step - loss: 0.3716 - accuracy: 0.8417\n",
            "Epoch 10/50\n",
            "238/238 [==============================] - 37s 156ms/step - loss: 0.3636 - accuracy: 0.8402\n",
            "Epoch 11/50\n",
            "238/238 [==============================] - 38s 158ms/step - loss: 0.3320 - accuracy: 0.8588\n",
            "Epoch 12/50\n",
            "238/238 [==============================] - 37s 156ms/step - loss: 0.3345 - accuracy: 0.8578\n",
            "Epoch 13/50\n",
            "238/238 [==============================] - 37s 153ms/step - loss: 0.3118 - accuracy: 0.8742\n",
            "Epoch 14/50\n",
            "238/238 [==============================] - 36s 151ms/step - loss: 0.2982 - accuracy: 0.8780\n",
            "Epoch 15/50\n",
            "238/238 [==============================] - 36s 150ms/step - loss: 0.2846 - accuracy: 0.8807\n",
            "Epoch 16/50\n",
            "238/238 [==============================] - 36s 152ms/step - loss: 0.2597 - accuracy: 0.9002\n",
            "Epoch 17/50\n",
            "238/238 [==============================] - 36s 151ms/step - loss: 0.2458 - accuracy: 0.9047\n",
            "Epoch 18/50\n",
            "238/238 [==============================] - 36s 153ms/step - loss: 0.2300 - accuracy: 0.9108\n",
            "Epoch 19/50\n",
            "238/238 [==============================] - 36s 151ms/step - loss: 0.2162 - accuracy: 0.9180\n",
            "Epoch 20/50\n",
            "238/238 [==============================] - 36s 152ms/step - loss: 0.2138 - accuracy: 0.9141\n",
            "Epoch 21/50\n",
            "238/238 [==============================] - 37s 154ms/step - loss: 0.2014 - accuracy: 0.9171\n",
            "Epoch 22/50\n",
            "238/238 [==============================] - 37s 153ms/step - loss: 0.1844 - accuracy: 0.9252\n",
            "Epoch 23/50\n",
            "238/238 [==============================] - 36s 152ms/step - loss: 0.1715 - accuracy: 0.9366\n",
            "Epoch 24/50\n",
            "238/238 [==============================] - 37s 155ms/step - loss: 0.1717 - accuracy: 0.9343\n",
            "Epoch 25/50\n",
            "238/238 [==============================] - 37s 157ms/step - loss: 0.1625 - accuracy: 0.9385\n",
            "Epoch 26/50\n",
            "238/238 [==============================] - 38s 158ms/step - loss: 0.1631 - accuracy: 0.9385\n",
            "Epoch 27/50\n",
            "238/238 [==============================] - 37s 155ms/step - loss: 0.1450 - accuracy: 0.9429\n",
            "Epoch 28/50\n",
            "238/238 [==============================] - 37s 154ms/step - loss: 0.1339 - accuracy: 0.9503\n",
            "Epoch 29/50\n",
            "238/238 [==============================] - 37s 154ms/step - loss: 0.1340 - accuracy: 0.9464\n",
            "Epoch 30/50\n",
            "238/238 [==============================] - 37s 154ms/step - loss: 0.1256 - accuracy: 0.9526\n",
            "Epoch 31/50\n",
            "238/238 [==============================] - 36s 153ms/step - loss: 0.1276 - accuracy: 0.9504\n",
            "Epoch 32/50\n",
            "238/238 [==============================] - 36s 151ms/step - loss: 0.1136 - accuracy: 0.9594\n",
            "Epoch 33/50\n",
            "238/238 [==============================] - 36s 152ms/step - loss: 0.1075 - accuracy: 0.9591\n",
            "Epoch 34/50\n",
            "238/238 [==============================] - 37s 154ms/step - loss: 0.1096 - accuracy: 0.9594\n",
            "Epoch 35/50\n",
            "238/238 [==============================] - 36s 151ms/step - loss: 0.1077 - accuracy: 0.9585\n",
            "Epoch 36/50\n",
            "238/238 [==============================] - 36s 151ms/step - loss: 0.0949 - accuracy: 0.9651\n",
            "Epoch 37/50\n",
            "238/238 [==============================] - 36s 150ms/step - loss: 0.1033 - accuracy: 0.9595\n",
            "Epoch 38/50\n",
            "238/238 [==============================] - 36s 151ms/step - loss: 0.0965 - accuracy: 0.9633\n",
            "Epoch 39/50\n",
            "238/238 [==============================] - 36s 150ms/step - loss: 0.1090 - accuracy: 0.9637\n",
            "Epoch 40/50\n",
            "238/238 [==============================] - 36s 150ms/step - loss: 0.0964 - accuracy: 0.9651\n",
            "Epoch 41/50\n",
            "238/238 [==============================] - 35s 149ms/step - loss: 0.1059 - accuracy: 0.9588\n",
            "Epoch 42/50\n",
            "238/238 [==============================] - 36s 149ms/step - loss: 0.0841 - accuracy: 0.9705\n",
            "Epoch 43/50\n",
            "238/238 [==============================] - 36s 149ms/step - loss: 0.0865 - accuracy: 0.9675\n",
            "Epoch 44/50\n",
            "238/238 [==============================] - 36s 150ms/step - loss: 0.0897 - accuracy: 0.9658\n",
            "Epoch 45/50\n",
            "238/238 [==============================] - 36s 150ms/step - loss: 0.0857 - accuracy: 0.9660\n",
            "Epoch 46/50\n",
            "238/238 [==============================] - 36s 151ms/step - loss: 0.0832 - accuracy: 0.9691\n",
            "Epoch 47/50\n",
            "238/238 [==============================] - 36s 151ms/step - loss: 0.0795 - accuracy: 0.9699\n",
            "Epoch 48/50\n",
            "238/238 [==============================] - 36s 150ms/step - loss: 0.0706 - accuracy: 0.9741\n",
            "Epoch 49/50\n",
            "238/238 [==============================] - 36s 150ms/step - loss: 0.0714 - accuracy: 0.9739\n",
            "Epoch 50/50\n",
            "238/238 [==============================] - 36s 150ms/step - loss: 0.0778 - accuracy: 0.9687\n"
          ],
          "name": "stdout"
        }
      ]
    },
    {
      "cell_type": "code",
      "metadata": {
        "id": "j2cqAvqz4cuj",
        "colab": {
          "base_uri": "https://localhost:8080/"
        },
        "outputId": "17b975ae-d83a-4670-84c7-5f8d6f996c52"
      },
      "source": [
        "score = model.evaluate(x_train, y_train, batch_size=BATCH_SIZE)\n",
        "print()\n",
        "print(\"ACCURACY:\",score[1])\n",
        "print(\"LOSS:\",score[0])"
      ],
      "execution_count": 94,
      "outputs": [
        {
          "output_type": "stream",
          "text": [
            "238/238 [==============================] - 3s 12ms/step - loss: 0.0650 - accuracy: 0.9765\n",
            "\n",
            "ACCURACY: 0.9764875769615173\n",
            "LOSS: 0.06504594534635544\n"
          ],
          "name": "stdout"
        }
      ]
    },
    {
      "cell_type": "code",
      "metadata": {
        "colab": {
          "base_uri": "https://localhost:8080/"
        },
        "id": "1ASgDOdFf401",
        "outputId": "aeaf32f6-2971-4c63-ed4d-8ce97d460277"
      },
      "source": [
        "pred = model.predict_classes(x_test)"
      ],
      "execution_count": 95,
      "outputs": [
        {
          "output_type": "stream",
          "text": [
            "/usr/local/lib/python3.7/dist-packages/tensorflow/python/keras/engine/sequential.py:450: UserWarning: `model.predict_classes()` is deprecated and will be removed after 2021-01-01. Please use instead:* `np.argmax(model.predict(x), axis=-1)`,   if your model does multi-class classification   (e.g. if it uses a `softmax` last-layer activation).* `(model.predict(x) > 0.5).astype(\"int32\")`,   if your model does binary classification   (e.g. if it uses a `sigmoid` last-layer activation).\n",
            "  warnings.warn('`model.predict_classes()` is deprecated and '\n"
          ],
          "name": "stderr"
        }
      ]
    },
    {
      "cell_type": "code",
      "metadata": {
        "id": "cN116tdLgFTT"
      },
      "source": [
        "import csv\n",
        "rowlist = []\n",
        "rowlist.append(['id','target'])\n",
        "for i in range(len(pred)):\n",
        "    rowlist.append([df_test.id[i], pred[i][0]])\n",
        "with open('submission.csv', 'w', newline = '') as file:\n",
        "    writer = csv.writer(file)\n",
        "    writer.writerows(rowlist)"
      ],
      "execution_count": 96,
      "outputs": []
    },
    {
      "cell_type": "code",
      "metadata": {
        "id": "0MnDssrc1A52"
      },
      "source": [
        ""
      ],
      "execution_count": 96,
      "outputs": []
    }
  ]
}